{
 "metadata": {
  "name": "",
  "signature": "sha256:a3db1fca20d196f24286f0c1a32e2b067671ebf71ff967f78c80e555682d7aa3"
 },
 "nbformat": 3,
 "nbformat_minor": 0,
 "worksheets": [
  {
   "cells": [
    {
     "cell_type": "code",
     "collapsed": false,
     "input": [
      "%matplotlib inline"
     ],
     "language": "python",
     "metadata": {},
     "outputs": [],
     "prompt_number": 1
    },
    {
     "cell_type": "code",
     "collapsed": false,
     "input": [
      "import mne\n",
      "\n",
      "# suppress output\n",
      "mne.set_log_level(False)\n",
      "\n",
      "# define the epoch directory\n",
      "epo_dir = \"../../ColorThresh/EPODATA/\"\n",
      "\n",
      "# define the participant ids\n",
      "pids = range(1001, 1039)\n",
      "n_pids = len(pids)\n",
      "\n",
      "# loop through the participants\n",
      "for pid in pids:\n",
      "    # create an empty list to epochs\n",
      "    epos = []\n",
      "    # loop through the conditions\n",
      "    for cond in ['PV', 'WM']:\n",
      "        # loop through the blocks\n",
      "        for block in range(2):\n",
      "            # construct the filename\n",
      "            epo_fname = epo_dir + \"%d_%s%d-epo.fif\" % (pid, cond, block)\n",
      "            # read the epoch data\n",
      "            epo = mne.read_epochs(epo_fname, proj=False, add_eeg_ref=False)\n",
      "            # recode events\n",
      "            if cond == 'PV':  # passive view\n",
      "                epo.event_id = {'PV_NEU': 16384, 'PV_NEG': 32768}\n",
      "            elif cond == 'WM':  # working memory\n",
      "                epo.events[:, 2] /= 4\n",
      "                epo.event_id = {'WM_NEU': 4096, 'WM_NEG': 8192}\n",
      "            # add to list\n",
      "            epos.append(epo)"
     ],
     "language": "python",
     "metadata": {},
     "outputs": [],
     "prompt_number": 9
    }
   ],
   "metadata": {}
  }
 ]
}