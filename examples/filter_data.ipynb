{
 "metadata": {
  "name": "",
  "signature": "sha256:242b72f9a72864e3b62b59e0963a49c18adacf34eb7ff9b56e8834db850a01ab"
 },
 "nbformat": 3,
 "nbformat_minor": 0,
 "worksheets": [
  {
   "cells": [
    {
     "cell_type": "heading",
     "level": 1,
     "metadata": {},
     "source": [
      "Filter Data Example"
     ]
    },
    {
     "cell_type": "heading",
     "level": 3,
     "metadata": {},
     "source": [
      "Batch process"
     ]
    },
    {
     "cell_type": "code",
     "collapsed": false,
     "input": [
      "# plot the data in notebook\n",
      "%matplotlib inline"
     ],
     "language": "python",
     "metadata": {},
     "outputs": [],
     "prompt_number": 1
    },
    {
     "cell_type": "code",
     "collapsed": false,
     "input": [
      "# run script\n",
      "%run '../raw_fif.py'"
     ],
     "language": "python",
     "metadata": {},
     "outputs": [],
     "prompt_number": 2
    },
    {
     "cell_type": "code",
     "collapsed": false,
     "input": [
      "# suppress text output\n",
      "mne.set_log_level(False)"
     ],
     "language": "python",
     "metadata": {},
     "outputs": [],
     "prompt_number": 3
    },
    {
     "cell_type": "code",
     "collapsed": false,
     "input": [
      "# setup some parameters for the filter\n",
      "l_freq = 1\n",
      "h_freq = 30"
     ],
     "language": "python",
     "metadata": {},
     "outputs": [],
     "prompt_number": 4
    },
    {
     "cell_type": "code",
     "collapsed": false,
     "input": [
      "# loop through the participants\n",
      "for pid in range(1001, 1039):\n",
      "    # loop through the conditions\n",
      "    for cond in ['PV', 'WM']:\n",
      "        # loop through the blocks\n",
      "        for b in range(2):\n",
      "            # initiate the raw fif object\n",
      "            this_fif = raw_fif(pid, cond, b)\n",
      "            # filter the data\n",
      "            this_fif.filter_data(l_freq, h_freq)\n",
      "            # print the filtered filename\n",
      "            print this_fif.filter_fname"
     ],
     "language": "python",
     "metadata": {},
     "outputs": [
      {
       "output_type": "stream",
       "stream": "stdout",
       "text": [
        "/home/alan/EmoWorM/ColorThresh/FILTFIF/1001_PV0_1:30Hz-raw.fif\n",
        "/home/alan/EmoWorM/ColorThresh/FILTFIF/1001_PV1_1:30Hz-raw.fif"
       ]
      },
      {
       "output_type": "stream",
       "stream": "stdout",
       "text": [
        "\n",
        "/home/alan/EmoWorM/ColorThresh/FILTFIF/1001_WM0_1:30Hz-raw.fif"
       ]
      },
      {
       "output_type": "stream",
       "stream": "stdout",
       "text": [
        "\n",
        "/home/alan/EmoWorM/ColorThresh/FILTFIF/1001_WM1_1:30Hz-raw.fif"
       ]
      },
      {
       "output_type": "stream",
       "stream": "stdout",
       "text": [
        "\n",
        "/home/alan/EmoWorM/ColorThresh/FILTFIF/1002_PV0_1:30Hz-raw.fif"
       ]
      },
      {
       "output_type": "stream",
       "stream": "stdout",
       "text": [
        "\n",
        "/home/alan/EmoWorM/ColorThresh/FILTFIF/1002_PV1_1:30Hz-raw.fif"
       ]
      },
      {
       "output_type": "stream",
       "stream": "stdout",
       "text": [
        "\n",
        "/home/alan/EmoWorM/ColorThresh/FILTFIF/1002_WM0_1:30Hz-raw.fif"
       ]
      },
      {
       "output_type": "stream",
       "stream": "stdout",
       "text": [
        "\n",
        "/home/alan/EmoWorM/ColorThresh/FILTFIF/1002_WM1_1:30Hz-raw.fif"
       ]
      },
      {
       "output_type": "stream",
       "stream": "stdout",
       "text": [
        "\n",
        "/home/alan/EmoWorM/ColorThresh/FILTFIF/1003_PV0_1:30Hz-raw.fif"
       ]
      },
      {
       "output_type": "stream",
       "stream": "stdout",
       "text": [
        "\n",
        "/home/alan/EmoWorM/ColorThresh/FILTFIF/1003_PV1_1:30Hz-raw.fif"
       ]
      },
      {
       "output_type": "stream",
       "stream": "stdout",
       "text": [
        "\n",
        "/home/alan/EmoWorM/ColorThresh/FILTFIF/1003_WM0_1:30Hz-raw.fif"
       ]
      },
      {
       "output_type": "stream",
       "stream": "stdout",
       "text": [
        "\n",
        "/home/alan/EmoWorM/ColorThresh/FILTFIF/1003_WM1_1:30Hz-raw.fif"
       ]
      },
      {
       "output_type": "stream",
       "stream": "stdout",
       "text": [
        "\n",
        "/home/alan/EmoWorM/ColorThresh/FILTFIF/1004_PV0_1:30Hz-raw.fif"
       ]
      },
      {
       "output_type": "stream",
       "stream": "stdout",
       "text": [
        "\n",
        "/home/alan/EmoWorM/ColorThresh/FILTFIF/1004_PV1_1:30Hz-raw.fif"
       ]
      },
      {
       "output_type": "stream",
       "stream": "stdout",
       "text": [
        "\n",
        "/home/alan/EmoWorM/ColorThresh/FILTFIF/1004_WM0_1:30Hz-raw.fif"
       ]
      },
      {
       "output_type": "stream",
       "stream": "stdout",
       "text": [
        "\n",
        "/home/alan/EmoWorM/ColorThresh/FILTFIF/1004_WM1_1:30Hz-raw.fif"
       ]
      },
      {
       "output_type": "stream",
       "stream": "stdout",
       "text": [
        "\n",
        "/home/alan/EmoWorM/ColorThresh/FILTFIF/1005_PV0_1:30Hz-raw.fif"
       ]
      },
      {
       "output_type": "stream",
       "stream": "stdout",
       "text": [
        "\n",
        "/home/alan/EmoWorM/ColorThresh/FILTFIF/1005_PV1_1:30Hz-raw.fif"
       ]
      },
      {
       "output_type": "stream",
       "stream": "stdout",
       "text": [
        "\n",
        "/home/alan/EmoWorM/ColorThresh/FILTFIF/1005_WM0_1:30Hz-raw.fif"
       ]
      },
      {
       "output_type": "stream",
       "stream": "stdout",
       "text": [
        "\n",
        "/home/alan/EmoWorM/ColorThresh/FILTFIF/1005_WM1_1:30Hz-raw.fif"
       ]
      },
      {
       "output_type": "stream",
       "stream": "stdout",
       "text": [
        "\n",
        "/home/alan/EmoWorM/ColorThresh/FILTFIF/1006_PV0_1:30Hz-raw.fif"
       ]
      },
      {
       "output_type": "stream",
       "stream": "stdout",
       "text": [
        "\n",
        "/home/alan/EmoWorM/ColorThresh/FILTFIF/1006_PV1_1:30Hz-raw.fif"
       ]
      },
      {
       "output_type": "stream",
       "stream": "stdout",
       "text": [
        "\n",
        "/home/alan/EmoWorM/ColorThresh/FILTFIF/1006_WM0_1:30Hz-raw.fif"
       ]
      },
      {
       "output_type": "stream",
       "stream": "stdout",
       "text": [
        "\n",
        "/home/alan/EmoWorM/ColorThresh/FILTFIF/1006_WM1_1:30Hz-raw.fif"
       ]
      },
      {
       "output_type": "stream",
       "stream": "stdout",
       "text": [
        "\n",
        "/home/alan/EmoWorM/ColorThresh/FILTFIF/1007_PV0_1:30Hz-raw.fif"
       ]
      },
      {
       "output_type": "stream",
       "stream": "stdout",
       "text": [
        "\n",
        "/home/alan/EmoWorM/ColorThresh/FILTFIF/1007_PV1_1:30Hz-raw.fif"
       ]
      },
      {
       "output_type": "stream",
       "stream": "stdout",
       "text": [
        "\n",
        "/home/alan/EmoWorM/ColorThresh/FILTFIF/1007_WM0_1:30Hz-raw.fif"
       ]
      },
      {
       "output_type": "stream",
       "stream": "stdout",
       "text": [
        "\n",
        "/home/alan/EmoWorM/ColorThresh/FILTFIF/1007_WM1_1:30Hz-raw.fif"
       ]
      },
      {
       "output_type": "stream",
       "stream": "stdout",
       "text": [
        "\n",
        "/home/alan/EmoWorM/ColorThresh/FILTFIF/1008_PV0_1:30Hz-raw.fif"
       ]
      },
      {
       "output_type": "stream",
       "stream": "stdout",
       "text": [
        "\n",
        "/home/alan/EmoWorM/ColorThresh/FILTFIF/1008_PV1_1:30Hz-raw.fif"
       ]
      },
      {
       "output_type": "stream",
       "stream": "stdout",
       "text": [
        "\n",
        "/home/alan/EmoWorM/ColorThresh/FILTFIF/1008_WM0_1:30Hz-raw.fif"
       ]
      },
      {
       "output_type": "stream",
       "stream": "stdout",
       "text": [
        "\n",
        "/home/alan/EmoWorM/ColorThresh/FILTFIF/1008_WM1_1:30Hz-raw.fif"
       ]
      },
      {
       "output_type": "stream",
       "stream": "stdout",
       "text": [
        "\n",
        "/home/alan/EmoWorM/ColorThresh/FILTFIF/1009_PV0_1:30Hz-raw.fif"
       ]
      },
      {
       "output_type": "stream",
       "stream": "stdout",
       "text": [
        "\n",
        "/home/alan/EmoWorM/ColorThresh/FILTFIF/1009_PV1_1:30Hz-raw.fif"
       ]
      },
      {
       "output_type": "stream",
       "stream": "stdout",
       "text": [
        "\n",
        "/home/alan/EmoWorM/ColorThresh/FILTFIF/1009_WM0_1:30Hz-raw.fif"
       ]
      },
      {
       "output_type": "stream",
       "stream": "stdout",
       "text": [
        "\n",
        "/home/alan/EmoWorM/ColorThresh/FILTFIF/1009_WM1_1:30Hz-raw.fif"
       ]
      },
      {
       "output_type": "stream",
       "stream": "stdout",
       "text": [
        "\n",
        "/home/alan/EmoWorM/ColorThresh/FILTFIF/1010_PV0_1:30Hz-raw.fif"
       ]
      },
      {
       "output_type": "stream",
       "stream": "stdout",
       "text": [
        "\n",
        "/home/alan/EmoWorM/ColorThresh/FILTFIF/1010_PV1_1:30Hz-raw.fif"
       ]
      },
      {
       "output_type": "stream",
       "stream": "stdout",
       "text": [
        "\n",
        "/home/alan/EmoWorM/ColorThresh/FILTFIF/1010_WM0_1:30Hz-raw.fif"
       ]
      },
      {
       "output_type": "stream",
       "stream": "stdout",
       "text": [
        "\n",
        "/home/alan/EmoWorM/ColorThresh/FILTFIF/1010_WM1_1:30Hz-raw.fif"
       ]
      },
      {
       "output_type": "stream",
       "stream": "stdout",
       "text": [
        "\n",
        "/home/alan/EmoWorM/ColorThresh/FILTFIF/1011_PV0_1:30Hz-raw.fif"
       ]
      },
      {
       "output_type": "stream",
       "stream": "stdout",
       "text": [
        "\n",
        "/home/alan/EmoWorM/ColorThresh/FILTFIF/1011_PV1_1:30Hz-raw.fif"
       ]
      },
      {
       "output_type": "stream",
       "stream": "stdout",
       "text": [
        "\n",
        "/home/alan/EmoWorM/ColorThresh/FILTFIF/1011_WM0_1:30Hz-raw.fif"
       ]
      },
      {
       "output_type": "stream",
       "stream": "stdout",
       "text": [
        "\n",
        "/home/alan/EmoWorM/ColorThresh/FILTFIF/1011_WM1_1:30Hz-raw.fif"
       ]
      },
      {
       "output_type": "stream",
       "stream": "stdout",
       "text": [
        "\n",
        "/home/alan/EmoWorM/ColorThresh/FILTFIF/1012_PV0_1:30Hz-raw.fif"
       ]
      },
      {
       "output_type": "stream",
       "stream": "stdout",
       "text": [
        "\n",
        "/home/alan/EmoWorM/ColorThresh/FILTFIF/1012_PV1_1:30Hz-raw.fif"
       ]
      },
      {
       "output_type": "stream",
       "stream": "stdout",
       "text": [
        "\n",
        "/home/alan/EmoWorM/ColorThresh/FILTFIF/1012_WM0_1:30Hz-raw.fif"
       ]
      },
      {
       "output_type": "stream",
       "stream": "stdout",
       "text": [
        "\n",
        "/home/alan/EmoWorM/ColorThresh/FILTFIF/1012_WM1_1:30Hz-raw.fif"
       ]
      },
      {
       "output_type": "stream",
       "stream": "stdout",
       "text": [
        "\n",
        "/home/alan/EmoWorM/ColorThresh/FILTFIF/1013_PV0_1:30Hz-raw.fif"
       ]
      },
      {
       "output_type": "stream",
       "stream": "stdout",
       "text": [
        "\n",
        "/home/alan/EmoWorM/ColorThresh/FILTFIF/1013_PV1_1:30Hz-raw.fif"
       ]
      },
      {
       "output_type": "stream",
       "stream": "stdout",
       "text": [
        "\n",
        "/home/alan/EmoWorM/ColorThresh/FILTFIF/1013_WM0_1:30Hz-raw.fif"
       ]
      },
      {
       "output_type": "stream",
       "stream": "stdout",
       "text": [
        "\n",
        "/home/alan/EmoWorM/ColorThresh/FILTFIF/1013_WM1_1:30Hz-raw.fif"
       ]
      },
      {
       "output_type": "stream",
       "stream": "stdout",
       "text": [
        "\n",
        "/home/alan/EmoWorM/ColorThresh/FILTFIF/1014_PV0_1:30Hz-raw.fif"
       ]
      },
      {
       "output_type": "stream",
       "stream": "stdout",
       "text": [
        "\n",
        "/home/alan/EmoWorM/ColorThresh/FILTFIF/1014_PV1_1:30Hz-raw.fif"
       ]
      },
      {
       "output_type": "stream",
       "stream": "stdout",
       "text": [
        "\n",
        "/home/alan/EmoWorM/ColorThresh/FILTFIF/1014_WM0_1:30Hz-raw.fif"
       ]
      },
      {
       "output_type": "stream",
       "stream": "stdout",
       "text": [
        "\n",
        "/home/alan/EmoWorM/ColorThresh/FILTFIF/1014_WM1_1:30Hz-raw.fif"
       ]
      },
      {
       "output_type": "stream",
       "stream": "stdout",
       "text": [
        "\n",
        "/home/alan/EmoWorM/ColorThresh/FILTFIF/1015_PV0_1:30Hz-raw.fif"
       ]
      },
      {
       "output_type": "stream",
       "stream": "stdout",
       "text": [
        "\n",
        "/home/alan/EmoWorM/ColorThresh/FILTFIF/1015_PV1_1:30Hz-raw.fif"
       ]
      },
      {
       "output_type": "stream",
       "stream": "stdout",
       "text": [
        "\n",
        "/home/alan/EmoWorM/ColorThresh/FILTFIF/1015_WM0_1:30Hz-raw.fif"
       ]
      },
      {
       "output_type": "stream",
       "stream": "stdout",
       "text": [
        "\n",
        "/home/alan/EmoWorM/ColorThresh/FILTFIF/1015_WM1_1:30Hz-raw.fif"
       ]
      },
      {
       "output_type": "stream",
       "stream": "stdout",
       "text": [
        "\n",
        "/home/alan/EmoWorM/ColorThresh/FILTFIF/1016_PV0_1:30Hz-raw.fif"
       ]
      },
      {
       "output_type": "stream",
       "stream": "stdout",
       "text": [
        "\n",
        "/home/alan/EmoWorM/ColorThresh/FILTFIF/1016_PV1_1:30Hz-raw.fif"
       ]
      },
      {
       "output_type": "stream",
       "stream": "stdout",
       "text": [
        "\n",
        "/home/alan/EmoWorM/ColorThresh/FILTFIF/1016_WM0_1:30Hz-raw.fif"
       ]
      },
      {
       "output_type": "stream",
       "stream": "stdout",
       "text": [
        "\n",
        "/home/alan/EmoWorM/ColorThresh/FILTFIF/1016_WM1_1:30Hz-raw.fif"
       ]
      },
      {
       "output_type": "stream",
       "stream": "stdout",
       "text": [
        "\n",
        "/home/alan/EmoWorM/ColorThresh/FILTFIF/1017_PV0_1:30Hz-raw.fif"
       ]
      },
      {
       "output_type": "stream",
       "stream": "stdout",
       "text": [
        "\n",
        "/home/alan/EmoWorM/ColorThresh/FILTFIF/1017_PV1_1:30Hz-raw.fif"
       ]
      },
      {
       "output_type": "stream",
       "stream": "stdout",
       "text": [
        "\n",
        "/home/alan/EmoWorM/ColorThresh/FILTFIF/1017_WM0_1:30Hz-raw.fif"
       ]
      },
      {
       "output_type": "stream",
       "stream": "stdout",
       "text": [
        "\n",
        "/home/alan/EmoWorM/ColorThresh/FILTFIF/1017_WM1_1:30Hz-raw.fif"
       ]
      },
      {
       "output_type": "stream",
       "stream": "stdout",
       "text": [
        "\n",
        "/home/alan/EmoWorM/ColorThresh/FILTFIF/1018_PV0_1:30Hz-raw.fif"
       ]
      },
      {
       "output_type": "stream",
       "stream": "stdout",
       "text": [
        "\n",
        "/home/alan/EmoWorM/ColorThresh/FILTFIF/1018_PV1_1:30Hz-raw.fif"
       ]
      },
      {
       "output_type": "stream",
       "stream": "stdout",
       "text": [
        "\n",
        "/home/alan/EmoWorM/ColorThresh/FILTFIF/1018_WM0_1:30Hz-raw.fif"
       ]
      },
      {
       "output_type": "stream",
       "stream": "stdout",
       "text": [
        "\n",
        "/home/alan/EmoWorM/ColorThresh/FILTFIF/1018_WM1_1:30Hz-raw.fif"
       ]
      },
      {
       "output_type": "stream",
       "stream": "stdout",
       "text": [
        "\n",
        "/home/alan/EmoWorM/ColorThresh/FILTFIF/1019_PV0_1:30Hz-raw.fif"
       ]
      },
      {
       "output_type": "stream",
       "stream": "stdout",
       "text": [
        "\n",
        "/home/alan/EmoWorM/ColorThresh/FILTFIF/1019_PV1_1:30Hz-raw.fif"
       ]
      },
      {
       "output_type": "stream",
       "stream": "stdout",
       "text": [
        "\n",
        "/home/alan/EmoWorM/ColorThresh/FILTFIF/1019_WM0_1:30Hz-raw.fif"
       ]
      },
      {
       "output_type": "stream",
       "stream": "stdout",
       "text": [
        "\n",
        "/home/alan/EmoWorM/ColorThresh/FILTFIF/1019_WM1_1:30Hz-raw.fif"
       ]
      },
      {
       "output_type": "stream",
       "stream": "stdout",
       "text": [
        "\n",
        "/home/alan/EmoWorM/ColorThresh/FILTFIF/1020_PV0_1:30Hz-raw.fif"
       ]
      },
      {
       "output_type": "stream",
       "stream": "stdout",
       "text": [
        "\n",
        "/home/alan/EmoWorM/ColorThresh/FILTFIF/1020_PV1_1:30Hz-raw.fif"
       ]
      },
      {
       "output_type": "stream",
       "stream": "stdout",
       "text": [
        "\n",
        "/home/alan/EmoWorM/ColorThresh/FILTFIF/1020_WM0_1:30Hz-raw.fif"
       ]
      },
      {
       "output_type": "stream",
       "stream": "stdout",
       "text": [
        "\n",
        "/home/alan/EmoWorM/ColorThresh/FILTFIF/1020_WM1_1:30Hz-raw.fif"
       ]
      },
      {
       "output_type": "stream",
       "stream": "stdout",
       "text": [
        "\n",
        "/home/alan/EmoWorM/ColorThresh/FILTFIF/1021_PV0_1:30Hz-raw.fif"
       ]
      },
      {
       "output_type": "stream",
       "stream": "stdout",
       "text": [
        "\n",
        "/home/alan/EmoWorM/ColorThresh/FILTFIF/1021_PV1_1:30Hz-raw.fif"
       ]
      },
      {
       "output_type": "stream",
       "stream": "stdout",
       "text": [
        "\n",
        "/home/alan/EmoWorM/ColorThresh/FILTFIF/1021_WM0_1:30Hz-raw.fif"
       ]
      },
      {
       "output_type": "stream",
       "stream": "stdout",
       "text": [
        "\n",
        "/home/alan/EmoWorM/ColorThresh/FILTFIF/1021_WM1_1:30Hz-raw.fif"
       ]
      },
      {
       "output_type": "stream",
       "stream": "stdout",
       "text": [
        "\n",
        "/home/alan/EmoWorM/ColorThresh/FILTFIF/1022_PV0_1:30Hz-raw.fif"
       ]
      },
      {
       "output_type": "stream",
       "stream": "stdout",
       "text": [
        "\n",
        "/home/alan/EmoWorM/ColorThresh/FILTFIF/1022_PV1_1:30Hz-raw.fif"
       ]
      },
      {
       "output_type": "stream",
       "stream": "stdout",
       "text": [
        "\n",
        "/home/alan/EmoWorM/ColorThresh/FILTFIF/1022_WM0_1:30Hz-raw.fif"
       ]
      },
      {
       "output_type": "stream",
       "stream": "stdout",
       "text": [
        "\n",
        "/home/alan/EmoWorM/ColorThresh/FILTFIF/1022_WM1_1:30Hz-raw.fif"
       ]
      },
      {
       "output_type": "stream",
       "stream": "stdout",
       "text": [
        "\n",
        "/home/alan/EmoWorM/ColorThresh/FILTFIF/1023_PV0_1:30Hz-raw.fif"
       ]
      },
      {
       "output_type": "stream",
       "stream": "stdout",
       "text": [
        "\n",
        "/home/alan/EmoWorM/ColorThresh/FILTFIF/1023_PV1_1:30Hz-raw.fif"
       ]
      },
      {
       "output_type": "stream",
       "stream": "stdout",
       "text": [
        "\n",
        "/home/alan/EmoWorM/ColorThresh/FILTFIF/1023_WM0_1:30Hz-raw.fif"
       ]
      },
      {
       "output_type": "stream",
       "stream": "stdout",
       "text": [
        "\n",
        "/home/alan/EmoWorM/ColorThresh/FILTFIF/1023_WM1_1:30Hz-raw.fif"
       ]
      },
      {
       "output_type": "stream",
       "stream": "stdout",
       "text": [
        "\n",
        "/home/alan/EmoWorM/ColorThresh/FILTFIF/1024_PV0_1:30Hz-raw.fif"
       ]
      },
      {
       "output_type": "stream",
       "stream": "stdout",
       "text": [
        "\n",
        "/home/alan/EmoWorM/ColorThresh/FILTFIF/1024_PV1_1:30Hz-raw.fif"
       ]
      },
      {
       "output_type": "stream",
       "stream": "stdout",
       "text": [
        "\n",
        "/home/alan/EmoWorM/ColorThresh/FILTFIF/1024_WM0_1:30Hz-raw.fif"
       ]
      },
      {
       "output_type": "stream",
       "stream": "stdout",
       "text": [
        "\n",
        "/home/alan/EmoWorM/ColorThresh/FILTFIF/1024_WM1_1:30Hz-raw.fif"
       ]
      },
      {
       "output_type": "stream",
       "stream": "stdout",
       "text": [
        "\n",
        "/home/alan/EmoWorM/ColorThresh/FILTFIF/1025_PV0_1:30Hz-raw.fif"
       ]
      },
      {
       "output_type": "stream",
       "stream": "stdout",
       "text": [
        "\n",
        "/home/alan/EmoWorM/ColorThresh/FILTFIF/1025_PV1_1:30Hz-raw.fif"
       ]
      },
      {
       "output_type": "stream",
       "stream": "stdout",
       "text": [
        "\n",
        "/home/alan/EmoWorM/ColorThresh/FILTFIF/1025_WM0_1:30Hz-raw.fif"
       ]
      },
      {
       "output_type": "stream",
       "stream": "stdout",
       "text": [
        "\n",
        "/home/alan/EmoWorM/ColorThresh/FILTFIF/1025_WM1_1:30Hz-raw.fif"
       ]
      },
      {
       "output_type": "stream",
       "stream": "stdout",
       "text": [
        "\n",
        "/home/alan/EmoWorM/ColorThresh/FILTFIF/1026_PV0_1:30Hz-raw.fif"
       ]
      },
      {
       "output_type": "stream",
       "stream": "stdout",
       "text": [
        "\n",
        "/home/alan/EmoWorM/ColorThresh/FILTFIF/1026_PV1_1:30Hz-raw.fif"
       ]
      },
      {
       "output_type": "stream",
       "stream": "stdout",
       "text": [
        "\n",
        "/home/alan/EmoWorM/ColorThresh/FILTFIF/1026_WM0_1:30Hz-raw.fif"
       ]
      },
      {
       "output_type": "stream",
       "stream": "stdout",
       "text": [
        "\n",
        "/home/alan/EmoWorM/ColorThresh/FILTFIF/1026_WM1_1:30Hz-raw.fif"
       ]
      },
      {
       "output_type": "stream",
       "stream": "stdout",
       "text": [
        "\n",
        "/home/alan/EmoWorM/ColorThresh/FILTFIF/1027_PV0_1:30Hz-raw.fif"
       ]
      },
      {
       "output_type": "stream",
       "stream": "stdout",
       "text": [
        "\n",
        "/home/alan/EmoWorM/ColorThresh/FILTFIF/1027_PV1_1:30Hz-raw.fif"
       ]
      },
      {
       "output_type": "stream",
       "stream": "stdout",
       "text": [
        "\n",
        "/home/alan/EmoWorM/ColorThresh/FILTFIF/1027_WM0_1:30Hz-raw.fif"
       ]
      },
      {
       "output_type": "stream",
       "stream": "stdout",
       "text": [
        "\n",
        "/home/alan/EmoWorM/ColorThresh/FILTFIF/1027_WM1_1:30Hz-raw.fif"
       ]
      },
      {
       "output_type": "stream",
       "stream": "stdout",
       "text": [
        "\n",
        "/home/alan/EmoWorM/ColorThresh/FILTFIF/1028_PV0_1:30Hz-raw.fif"
       ]
      },
      {
       "output_type": "stream",
       "stream": "stdout",
       "text": [
        "\n",
        "/home/alan/EmoWorM/ColorThresh/FILTFIF/1028_PV1_1:30Hz-raw.fif"
       ]
      },
      {
       "output_type": "stream",
       "stream": "stdout",
       "text": [
        "\n",
        "/home/alan/EmoWorM/ColorThresh/FILTFIF/1028_WM0_1:30Hz-raw.fif"
       ]
      },
      {
       "output_type": "stream",
       "stream": "stdout",
       "text": [
        "\n",
        "/home/alan/EmoWorM/ColorThresh/FILTFIF/1028_WM1_1:30Hz-raw.fif"
       ]
      },
      {
       "output_type": "stream",
       "stream": "stdout",
       "text": [
        "\n",
        "/home/alan/EmoWorM/ColorThresh/FILTFIF/1029_PV0_1:30Hz-raw.fif"
       ]
      },
      {
       "output_type": "stream",
       "stream": "stdout",
       "text": [
        "\n",
        "/home/alan/EmoWorM/ColorThresh/FILTFIF/1029_PV1_1:30Hz-raw.fif"
       ]
      },
      {
       "output_type": "stream",
       "stream": "stdout",
       "text": [
        "\n",
        "/home/alan/EmoWorM/ColorThresh/FILTFIF/1029_WM0_1:30Hz-raw.fif"
       ]
      },
      {
       "output_type": "stream",
       "stream": "stdout",
       "text": [
        "\n",
        "/home/alan/EmoWorM/ColorThresh/FILTFIF/1029_WM1_1:30Hz-raw.fif"
       ]
      },
      {
       "output_type": "stream",
       "stream": "stdout",
       "text": [
        "\n",
        "/home/alan/EmoWorM/ColorThresh/FILTFIF/1030_PV0_1:30Hz-raw.fif"
       ]
      },
      {
       "output_type": "stream",
       "stream": "stdout",
       "text": [
        "\n",
        "/home/alan/EmoWorM/ColorThresh/FILTFIF/1030_PV1_1:30Hz-raw.fif"
       ]
      },
      {
       "output_type": "stream",
       "stream": "stdout",
       "text": [
        "\n",
        "/home/alan/EmoWorM/ColorThresh/FILTFIF/1030_WM0_1:30Hz-raw.fif"
       ]
      },
      {
       "output_type": "stream",
       "stream": "stdout",
       "text": [
        "\n",
        "/home/alan/EmoWorM/ColorThresh/FILTFIF/1030_WM1_1:30Hz-raw.fif"
       ]
      },
      {
       "output_type": "stream",
       "stream": "stdout",
       "text": [
        "\n",
        "/home/alan/EmoWorM/ColorThresh/FILTFIF/1031_PV0_1:30Hz-raw.fif"
       ]
      },
      {
       "output_type": "stream",
       "stream": "stdout",
       "text": [
        "\n",
        "/home/alan/EmoWorM/ColorThresh/FILTFIF/1031_PV1_1:30Hz-raw.fif"
       ]
      },
      {
       "output_type": "stream",
       "stream": "stdout",
       "text": [
        "\n",
        "/home/alan/EmoWorM/ColorThresh/FILTFIF/1031_WM0_1:30Hz-raw.fif"
       ]
      },
      {
       "output_type": "stream",
       "stream": "stdout",
       "text": [
        "\n",
        "/home/alan/EmoWorM/ColorThresh/FILTFIF/1031_WM1_1:30Hz-raw.fif"
       ]
      },
      {
       "output_type": "stream",
       "stream": "stdout",
       "text": [
        "\n",
        "/home/alan/EmoWorM/ColorThresh/FILTFIF/1032_PV0_1:30Hz-raw.fif"
       ]
      },
      {
       "output_type": "stream",
       "stream": "stdout",
       "text": [
        "\n",
        "/home/alan/EmoWorM/ColorThresh/FILTFIF/1032_PV1_1:30Hz-raw.fif"
       ]
      },
      {
       "output_type": "stream",
       "stream": "stdout",
       "text": [
        "\n",
        "/home/alan/EmoWorM/ColorThresh/FILTFIF/1032_WM0_1:30Hz-raw.fif"
       ]
      },
      {
       "output_type": "stream",
       "stream": "stdout",
       "text": [
        "\n",
        "/home/alan/EmoWorM/ColorThresh/FILTFIF/1032_WM1_1:30Hz-raw.fif"
       ]
      },
      {
       "output_type": "stream",
       "stream": "stdout",
       "text": [
        "\n",
        "/home/alan/EmoWorM/ColorThresh/FILTFIF/1033_PV0_1:30Hz-raw.fif"
       ]
      },
      {
       "output_type": "stream",
       "stream": "stdout",
       "text": [
        "\n",
        "/home/alan/EmoWorM/ColorThresh/FILTFIF/1033_PV1_1:30Hz-raw.fif"
       ]
      },
      {
       "output_type": "stream",
       "stream": "stdout",
       "text": [
        "\n",
        "/home/alan/EmoWorM/ColorThresh/FILTFIF/1033_WM0_1:30Hz-raw.fif"
       ]
      },
      {
       "output_type": "stream",
       "stream": "stdout",
       "text": [
        "\n",
        "/home/alan/EmoWorM/ColorThresh/FILTFIF/1033_WM1_1:30Hz-raw.fif"
       ]
      },
      {
       "output_type": "stream",
       "stream": "stdout",
       "text": [
        "\n",
        "/home/alan/EmoWorM/ColorThresh/FILTFIF/1034_PV0_1:30Hz-raw.fif"
       ]
      },
      {
       "output_type": "stream",
       "stream": "stdout",
       "text": [
        "\n",
        "/home/alan/EmoWorM/ColorThresh/FILTFIF/1034_PV1_1:30Hz-raw.fif"
       ]
      },
      {
       "output_type": "stream",
       "stream": "stdout",
       "text": [
        "\n",
        "/home/alan/EmoWorM/ColorThresh/FILTFIF/1034_WM0_1:30Hz-raw.fif"
       ]
      },
      {
       "output_type": "stream",
       "stream": "stdout",
       "text": [
        "\n",
        "/home/alan/EmoWorM/ColorThresh/FILTFIF/1034_WM1_1:30Hz-raw.fif"
       ]
      },
      {
       "output_type": "stream",
       "stream": "stdout",
       "text": [
        "\n",
        "/home/alan/EmoWorM/ColorThresh/FILTFIF/1035_PV0_1:30Hz-raw.fif"
       ]
      },
      {
       "output_type": "stream",
       "stream": "stdout",
       "text": [
        "\n",
        "/home/alan/EmoWorM/ColorThresh/FILTFIF/1035_PV1_1:30Hz-raw.fif"
       ]
      },
      {
       "output_type": "stream",
       "stream": "stdout",
       "text": [
        "\n",
        "/home/alan/EmoWorM/ColorThresh/FILTFIF/1035_WM0_1:30Hz-raw.fif"
       ]
      },
      {
       "output_type": "stream",
       "stream": "stdout",
       "text": [
        "\n",
        "/home/alan/EmoWorM/ColorThresh/FILTFIF/1035_WM1_1:30Hz-raw.fif"
       ]
      },
      {
       "output_type": "stream",
       "stream": "stdout",
       "text": [
        "\n",
        "/home/alan/EmoWorM/ColorThresh/FILTFIF/1036_PV0_1:30Hz-raw.fif"
       ]
      },
      {
       "output_type": "stream",
       "stream": "stdout",
       "text": [
        "\n",
        "/home/alan/EmoWorM/ColorThresh/FILTFIF/1036_PV1_1:30Hz-raw.fif"
       ]
      },
      {
       "output_type": "stream",
       "stream": "stdout",
       "text": [
        "\n",
        "/home/alan/EmoWorM/ColorThresh/FILTFIF/1036_WM0_1:30Hz-raw.fif"
       ]
      },
      {
       "output_type": "stream",
       "stream": "stdout",
       "text": [
        "\n",
        "/home/alan/EmoWorM/ColorThresh/FILTFIF/1036_WM1_1:30Hz-raw.fif"
       ]
      },
      {
       "output_type": "stream",
       "stream": "stdout",
       "text": [
        "\n",
        "/home/alan/EmoWorM/ColorThresh/FILTFIF/1037_PV0_1:30Hz-raw.fif"
       ]
      },
      {
       "output_type": "stream",
       "stream": "stdout",
       "text": [
        "\n",
        "/home/alan/EmoWorM/ColorThresh/FILTFIF/1037_PV1_1:30Hz-raw.fif"
       ]
      },
      {
       "output_type": "stream",
       "stream": "stdout",
       "text": [
        "\n",
        "/home/alan/EmoWorM/ColorThresh/FILTFIF/1037_WM0_1:30Hz-raw.fif"
       ]
      },
      {
       "output_type": "stream",
       "stream": "stdout",
       "text": [
        "\n",
        "/home/alan/EmoWorM/ColorThresh/FILTFIF/1037_WM1_1:30Hz-raw.fif"
       ]
      },
      {
       "output_type": "stream",
       "stream": "stdout",
       "text": [
        "\n",
        "/home/alan/EmoWorM/ColorThresh/FILTFIF/1038_PV0_1:30Hz-raw.fif"
       ]
      },
      {
       "output_type": "stream",
       "stream": "stdout",
       "text": [
        "\n",
        "/home/alan/EmoWorM/ColorThresh/FILTFIF/1038_PV1_1:30Hz-raw.fif"
       ]
      },
      {
       "output_type": "stream",
       "stream": "stdout",
       "text": [
        "\n",
        "/home/alan/EmoWorM/ColorThresh/FILTFIF/1038_WM0_1:30Hz-raw.fif"
       ]
      },
      {
       "output_type": "stream",
       "stream": "stdout",
       "text": [
        "\n",
        "/home/alan/EmoWorM/ColorThresh/FILTFIF/1038_WM1_1:30Hz-raw.fif"
       ]
      },
      {
       "output_type": "stream",
       "stream": "stdout",
       "text": [
        "\n"
       ]
      }
     ],
     "prompt_number": 5
    }
   ],
   "metadata": {}
  }
 ]
}