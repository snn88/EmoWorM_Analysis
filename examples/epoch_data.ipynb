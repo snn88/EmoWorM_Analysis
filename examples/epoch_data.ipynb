{
 "metadata": {
  "name": "",
  "signature": "sha256:5662088366af4689b6ff8615d0d17a5ab57bbf81019998a3bd456cb235451b8e"
 },
 "nbformat": 3,
 "nbformat_minor": 0,
 "worksheets": [
  {
   "cells": [
    {
     "cell_type": "heading",
     "level": 1,
     "metadata": {},
     "source": [
      "Epoch Data Example"
     ]
    },
    {
     "cell_type": "heading",
     "level": 3,
     "metadata": {},
     "source": [
      "Batch process"
     ]
    },
    {
     "cell_type": "code",
     "collapsed": false,
     "input": [
      "# plot the data in notebook\n",
      "%matplotlib inline"
     ],
     "language": "python",
     "metadata": {},
     "outputs": [],
     "prompt_number": 1
    },
    {
     "cell_type": "code",
     "collapsed": false,
     "input": [
      "# run script\n",
      "%run '../raw_filt.py'"
     ],
     "language": "python",
     "metadata": {},
     "outputs": [],
     "prompt_number": 2
    },
    {
     "cell_type": "code",
     "collapsed": false,
     "input": [
      "# suppress text output\n",
      "mne.set_log_level(False)"
     ],
     "language": "python",
     "metadata": {},
     "outputs": [],
     "prompt_number": 3
    },
    {
     "cell_type": "code",
     "collapsed": false,
     "input": [
      "# setup some parameters for the filter\n",
      "l_freq = 1\n",
      "h_freq = 30"
     ],
     "language": "python",
     "metadata": {},
     "outputs": [],
     "prompt_number": 4
    },
    {
     "cell_type": "code",
     "collapsed": false,
     "input": [
      "# loop through the participants\n",
      "for pid in range(1001, 1039):\n",
      "    # loop through the conditions\n",
      "    for cond in ['PV', 'WM']:\n",
      "        # loop through the blocks\n",
      "        for b in range(2):\n",
      "            # initiate the raw fif object\n",
      "            this_fif = raw_filt(pid, cond, b, l_freq, h_freq)\n",
      "            # epoch the data\n",
      "            this_fif.epoch_data()\n",
      "            # print the filtered filename\n",
      "            print this_fif.epo_fname"
     ],
     "language": "python",
     "metadata": {},
     "outputs": [
      {
       "output_type": "stream",
       "stream": "stdout",
       "text": [
        "/home/alan/EmoWorM/ColorThresh/EPODATA/1001_PV0-epo.fif\n",
        "/home/alan/EmoWorM/ColorThresh/EPODATA/1001_PV1-epo.fif"
       ]
      },
      {
       "output_type": "stream",
       "stream": "stdout",
       "text": [
        "\n",
        "/home/alan/EmoWorM/ColorThresh/EPODATA/1001_WM0-epo.fif"
       ]
      },
      {
       "output_type": "stream",
       "stream": "stdout",
       "text": [
        "\n",
        "/home/alan/EmoWorM/ColorThresh/EPODATA/1001_WM1-epo.fif"
       ]
      },
      {
       "output_type": "stream",
       "stream": "stdout",
       "text": [
        "\n",
        "/home/alan/EmoWorM/ColorThresh/EPODATA/1002_PV0-epo.fif"
       ]
      },
      {
       "output_type": "stream",
       "stream": "stdout",
       "text": [
        "\n",
        "/home/alan/EmoWorM/ColorThresh/EPODATA/1002_PV1-epo.fif"
       ]
      },
      {
       "output_type": "stream",
       "stream": "stdout",
       "text": [
        "\n",
        "/home/alan/EmoWorM/ColorThresh/EPODATA/1002_WM0-epo.fif"
       ]
      },
      {
       "output_type": "stream",
       "stream": "stdout",
       "text": [
        "\n",
        "/home/alan/EmoWorM/ColorThresh/EPODATA/1002_WM1-epo.fif"
       ]
      },
      {
       "output_type": "stream",
       "stream": "stdout",
       "text": [
        "\n",
        "/home/alan/EmoWorM/ColorThresh/EPODATA/1003_PV0-epo.fif"
       ]
      },
      {
       "output_type": "stream",
       "stream": "stdout",
       "text": [
        "\n",
        "/home/alan/EmoWorM/ColorThresh/EPODATA/1003_PV1-epo.fif"
       ]
      },
      {
       "output_type": "stream",
       "stream": "stdout",
       "text": [
        "\n",
        "/home/alan/EmoWorM/ColorThresh/EPODATA/1003_WM0-epo.fif"
       ]
      },
      {
       "output_type": "stream",
       "stream": "stdout",
       "text": [
        "\n",
        "/home/alan/EmoWorM/ColorThresh/EPODATA/1003_WM1-epo.fif"
       ]
      },
      {
       "output_type": "stream",
       "stream": "stdout",
       "text": [
        "\n",
        "/home/alan/EmoWorM/ColorThresh/EPODATA/1004_PV0-epo.fif"
       ]
      },
      {
       "output_type": "stream",
       "stream": "stdout",
       "text": [
        "\n",
        "/home/alan/EmoWorM/ColorThresh/EPODATA/1004_PV1-epo.fif"
       ]
      },
      {
       "output_type": "stream",
       "stream": "stdout",
       "text": [
        "\n",
        "/home/alan/EmoWorM/ColorThresh/EPODATA/1004_WM0-epo.fif"
       ]
      },
      {
       "output_type": "stream",
       "stream": "stdout",
       "text": [
        "\n",
        "/home/alan/EmoWorM/ColorThresh/EPODATA/1004_WM1-epo.fif"
       ]
      },
      {
       "output_type": "stream",
       "stream": "stdout",
       "text": [
        "\n",
        "/home/alan/EmoWorM/ColorThresh/EPODATA/1005_PV0-epo.fif"
       ]
      },
      {
       "output_type": "stream",
       "stream": "stdout",
       "text": [
        "\n",
        "/home/alan/EmoWorM/ColorThresh/EPODATA/1005_PV1-epo.fif"
       ]
      },
      {
       "output_type": "stream",
       "stream": "stdout",
       "text": [
        "\n",
        "/home/alan/EmoWorM/ColorThresh/EPODATA/1005_WM0-epo.fif"
       ]
      },
      {
       "output_type": "stream",
       "stream": "stdout",
       "text": [
        "\n",
        "/home/alan/EmoWorM/ColorThresh/EPODATA/1005_WM1-epo.fif"
       ]
      },
      {
       "output_type": "stream",
       "stream": "stdout",
       "text": [
        "\n",
        "/home/alan/EmoWorM/ColorThresh/EPODATA/1006_PV0-epo.fif"
       ]
      },
      {
       "output_type": "stream",
       "stream": "stdout",
       "text": [
        "\n",
        "/home/alan/EmoWorM/ColorThresh/EPODATA/1006_PV1-epo.fif"
       ]
      },
      {
       "output_type": "stream",
       "stream": "stdout",
       "text": [
        "\n",
        "/home/alan/EmoWorM/ColorThresh/EPODATA/1006_WM0-epo.fif"
       ]
      },
      {
       "output_type": "stream",
       "stream": "stdout",
       "text": [
        "\n",
        "/home/alan/EmoWorM/ColorThresh/EPODATA/1006_WM1-epo.fif"
       ]
      },
      {
       "output_type": "stream",
       "stream": "stdout",
       "text": [
        "\n",
        "/home/alan/EmoWorM/ColorThresh/EPODATA/1007_PV0-epo.fif"
       ]
      },
      {
       "output_type": "stream",
       "stream": "stdout",
       "text": [
        "\n",
        "/home/alan/EmoWorM/ColorThresh/EPODATA/1007_PV1-epo.fif"
       ]
      },
      {
       "output_type": "stream",
       "stream": "stdout",
       "text": [
        "\n",
        "/home/alan/EmoWorM/ColorThresh/EPODATA/1007_WM0-epo.fif"
       ]
      },
      {
       "output_type": "stream",
       "stream": "stdout",
       "text": [
        "\n",
        "/home/alan/EmoWorM/ColorThresh/EPODATA/1007_WM1-epo.fif"
       ]
      },
      {
       "output_type": "stream",
       "stream": "stdout",
       "text": [
        "\n",
        "/home/alan/EmoWorM/ColorThresh/EPODATA/1008_PV0-epo.fif"
       ]
      },
      {
       "output_type": "stream",
       "stream": "stdout",
       "text": [
        "\n",
        "/home/alan/EmoWorM/ColorThresh/EPODATA/1008_PV1-epo.fif"
       ]
      },
      {
       "output_type": "stream",
       "stream": "stdout",
       "text": [
        "\n",
        "/home/alan/EmoWorM/ColorThresh/EPODATA/1008_WM0-epo.fif"
       ]
      },
      {
       "output_type": "stream",
       "stream": "stdout",
       "text": [
        "\n",
        "/home/alan/EmoWorM/ColorThresh/EPODATA/1008_WM1-epo.fif"
       ]
      },
      {
       "output_type": "stream",
       "stream": "stdout",
       "text": [
        "\n",
        "/home/alan/EmoWorM/ColorThresh/EPODATA/1009_PV0-epo.fif"
       ]
      },
      {
       "output_type": "stream",
       "stream": "stdout",
       "text": [
        "\n",
        "/home/alan/EmoWorM/ColorThresh/EPODATA/1009_PV1-epo.fif"
       ]
      },
      {
       "output_type": "stream",
       "stream": "stdout",
       "text": [
        "\n",
        "/home/alan/EmoWorM/ColorThresh/EPODATA/1009_WM0-epo.fif"
       ]
      },
      {
       "output_type": "stream",
       "stream": "stdout",
       "text": [
        "\n",
        "/home/alan/EmoWorM/ColorThresh/EPODATA/1009_WM1-epo.fif"
       ]
      },
      {
       "output_type": "stream",
       "stream": "stdout",
       "text": [
        "\n",
        "/home/alan/EmoWorM/ColorThresh/EPODATA/1010_PV0-epo.fif"
       ]
      },
      {
       "output_type": "stream",
       "stream": "stdout",
       "text": [
        "\n",
        "/home/alan/EmoWorM/ColorThresh/EPODATA/1010_PV1-epo.fif"
       ]
      },
      {
       "output_type": "stream",
       "stream": "stdout",
       "text": [
        "\n",
        "/home/alan/EmoWorM/ColorThresh/EPODATA/1010_WM0-epo.fif"
       ]
      },
      {
       "output_type": "stream",
       "stream": "stdout",
       "text": [
        "\n",
        "/home/alan/EmoWorM/ColorThresh/EPODATA/1010_WM1-epo.fif"
       ]
      },
      {
       "output_type": "stream",
       "stream": "stdout",
       "text": [
        "\n",
        "/home/alan/EmoWorM/ColorThresh/EPODATA/1011_PV0-epo.fif"
       ]
      },
      {
       "output_type": "stream",
       "stream": "stdout",
       "text": [
        "\n",
        "/home/alan/EmoWorM/ColorThresh/EPODATA/1011_PV1-epo.fif"
       ]
      },
      {
       "output_type": "stream",
       "stream": "stdout",
       "text": [
        "\n",
        "/home/alan/EmoWorM/ColorThresh/EPODATA/1011_WM0-epo.fif"
       ]
      },
      {
       "output_type": "stream",
       "stream": "stdout",
       "text": [
        "\n",
        "/home/alan/EmoWorM/ColorThresh/EPODATA/1011_WM1-epo.fif"
       ]
      },
      {
       "output_type": "stream",
       "stream": "stdout",
       "text": [
        "\n",
        "/home/alan/EmoWorM/ColorThresh/EPODATA/1012_PV0-epo.fif"
       ]
      },
      {
       "output_type": "stream",
       "stream": "stdout",
       "text": [
        "\n",
        "/home/alan/EmoWorM/ColorThresh/EPODATA/1012_PV1-epo.fif"
       ]
      },
      {
       "output_type": "stream",
       "stream": "stdout",
       "text": [
        "\n",
        "/home/alan/EmoWorM/ColorThresh/EPODATA/1012_WM0-epo.fif"
       ]
      },
      {
       "output_type": "stream",
       "stream": "stdout",
       "text": [
        "\n",
        "/home/alan/EmoWorM/ColorThresh/EPODATA/1012_WM1-epo.fif"
       ]
      },
      {
       "output_type": "stream",
       "stream": "stdout",
       "text": [
        "\n",
        "/home/alan/EmoWorM/ColorThresh/EPODATA/1013_PV0-epo.fif"
       ]
      },
      {
       "output_type": "stream",
       "stream": "stdout",
       "text": [
        "\n",
        "/home/alan/EmoWorM/ColorThresh/EPODATA/1013_PV1-epo.fif"
       ]
      },
      {
       "output_type": "stream",
       "stream": "stdout",
       "text": [
        "\n",
        "/home/alan/EmoWorM/ColorThresh/EPODATA/1013_WM0-epo.fif"
       ]
      },
      {
       "output_type": "stream",
       "stream": "stdout",
       "text": [
        "\n",
        "/home/alan/EmoWorM/ColorThresh/EPODATA/1013_WM1-epo.fif"
       ]
      },
      {
       "output_type": "stream",
       "stream": "stdout",
       "text": [
        "\n",
        "/home/alan/EmoWorM/ColorThresh/EPODATA/1014_PV0-epo.fif"
       ]
      },
      {
       "output_type": "stream",
       "stream": "stdout",
       "text": [
        "\n",
        "/home/alan/EmoWorM/ColorThresh/EPODATA/1014_PV1-epo.fif"
       ]
      },
      {
       "output_type": "stream",
       "stream": "stdout",
       "text": [
        "\n",
        "/home/alan/EmoWorM/ColorThresh/EPODATA/1014_WM0-epo.fif"
       ]
      },
      {
       "output_type": "stream",
       "stream": "stdout",
       "text": [
        "\n",
        "/home/alan/EmoWorM/ColorThresh/EPODATA/1014_WM1-epo.fif"
       ]
      },
      {
       "output_type": "stream",
       "stream": "stdout",
       "text": [
        "\n",
        "/home/alan/EmoWorM/ColorThresh/EPODATA/1015_PV0-epo.fif"
       ]
      },
      {
       "output_type": "stream",
       "stream": "stdout",
       "text": [
        "\n",
        "/home/alan/EmoWorM/ColorThresh/EPODATA/1015_PV1-epo.fif"
       ]
      },
      {
       "output_type": "stream",
       "stream": "stdout",
       "text": [
        "\n",
        "/home/alan/EmoWorM/ColorThresh/EPODATA/1015_WM0-epo.fif"
       ]
      },
      {
       "output_type": "stream",
       "stream": "stdout",
       "text": [
        "\n",
        "/home/alan/EmoWorM/ColorThresh/EPODATA/1015_WM1-epo.fif"
       ]
      },
      {
       "output_type": "stream",
       "stream": "stdout",
       "text": [
        "\n",
        "/home/alan/EmoWorM/ColorThresh/EPODATA/1016_PV0-epo.fif"
       ]
      },
      {
       "output_type": "stream",
       "stream": "stdout",
       "text": [
        "\n",
        "/home/alan/EmoWorM/ColorThresh/EPODATA/1016_PV1-epo.fif"
       ]
      },
      {
       "output_type": "stream",
       "stream": "stdout",
       "text": [
        "\n",
        "/home/alan/EmoWorM/ColorThresh/EPODATA/1016_WM0-epo.fif"
       ]
      },
      {
       "output_type": "stream",
       "stream": "stdout",
       "text": [
        "\n",
        "/home/alan/EmoWorM/ColorThresh/EPODATA/1016_WM1-epo.fif"
       ]
      },
      {
       "output_type": "stream",
       "stream": "stdout",
       "text": [
        "\n",
        "/home/alan/EmoWorM/ColorThresh/EPODATA/1017_PV0-epo.fif"
       ]
      },
      {
       "output_type": "stream",
       "stream": "stdout",
       "text": [
        "\n",
        "/home/alan/EmoWorM/ColorThresh/EPODATA/1017_PV1-epo.fif"
       ]
      },
      {
       "output_type": "stream",
       "stream": "stdout",
       "text": [
        "\n",
        "/home/alan/EmoWorM/ColorThresh/EPODATA/1017_WM0-epo.fif"
       ]
      },
      {
       "output_type": "stream",
       "stream": "stdout",
       "text": [
        "\n",
        "/home/alan/EmoWorM/ColorThresh/EPODATA/1017_WM1-epo.fif"
       ]
      },
      {
       "output_type": "stream",
       "stream": "stdout",
       "text": [
        "\n",
        "/home/alan/EmoWorM/ColorThresh/EPODATA/1018_PV0-epo.fif"
       ]
      },
      {
       "output_type": "stream",
       "stream": "stdout",
       "text": [
        "\n",
        "/home/alan/EmoWorM/ColorThresh/EPODATA/1018_PV1-epo.fif"
       ]
      },
      {
       "output_type": "stream",
       "stream": "stdout",
       "text": [
        "\n",
        "/home/alan/EmoWorM/ColorThresh/EPODATA/1018_WM0-epo.fif"
       ]
      },
      {
       "output_type": "stream",
       "stream": "stdout",
       "text": [
        "\n",
        "/home/alan/EmoWorM/ColorThresh/EPODATA/1018_WM1-epo.fif"
       ]
      },
      {
       "output_type": "stream",
       "stream": "stdout",
       "text": [
        "\n",
        "/home/alan/EmoWorM/ColorThresh/EPODATA/1019_PV0-epo.fif"
       ]
      },
      {
       "output_type": "stream",
       "stream": "stdout",
       "text": [
        "\n",
        "/home/alan/EmoWorM/ColorThresh/EPODATA/1019_PV1-epo.fif"
       ]
      },
      {
       "output_type": "stream",
       "stream": "stdout",
       "text": [
        "\n",
        "/home/alan/EmoWorM/ColorThresh/EPODATA/1019_WM0-epo.fif"
       ]
      },
      {
       "output_type": "stream",
       "stream": "stdout",
       "text": [
        "\n",
        "/home/alan/EmoWorM/ColorThresh/EPODATA/1019_WM1-epo.fif"
       ]
      },
      {
       "output_type": "stream",
       "stream": "stdout",
       "text": [
        "\n",
        "/home/alan/EmoWorM/ColorThresh/EPODATA/1020_PV0-epo.fif"
       ]
      },
      {
       "output_type": "stream",
       "stream": "stdout",
       "text": [
        "\n",
        "/home/alan/EmoWorM/ColorThresh/EPODATA/1020_PV1-epo.fif"
       ]
      },
      {
       "output_type": "stream",
       "stream": "stdout",
       "text": [
        "\n",
        "/home/alan/EmoWorM/ColorThresh/EPODATA/1020_WM0-epo.fif"
       ]
      },
      {
       "output_type": "stream",
       "stream": "stdout",
       "text": [
        "\n",
        "/home/alan/EmoWorM/ColorThresh/EPODATA/1020_WM1-epo.fif"
       ]
      },
      {
       "output_type": "stream",
       "stream": "stdout",
       "text": [
        "\n",
        "/home/alan/EmoWorM/ColorThresh/EPODATA/1021_PV0-epo.fif"
       ]
      },
      {
       "output_type": "stream",
       "stream": "stdout",
       "text": [
        "\n",
        "/home/alan/EmoWorM/ColorThresh/EPODATA/1021_PV1-epo.fif"
       ]
      },
      {
       "output_type": "stream",
       "stream": "stdout",
       "text": [
        "\n",
        "/home/alan/EmoWorM/ColorThresh/EPODATA/1021_WM0-epo.fif"
       ]
      },
      {
       "output_type": "stream",
       "stream": "stdout",
       "text": [
        "\n",
        "/home/alan/EmoWorM/ColorThresh/EPODATA/1021_WM1-epo.fif"
       ]
      },
      {
       "output_type": "stream",
       "stream": "stdout",
       "text": [
        "\n",
        "/home/alan/EmoWorM/ColorThresh/EPODATA/1022_PV0-epo.fif"
       ]
      },
      {
       "output_type": "stream",
       "stream": "stdout",
       "text": [
        "\n",
        "/home/alan/EmoWorM/ColorThresh/EPODATA/1022_PV1-epo.fif"
       ]
      },
      {
       "output_type": "stream",
       "stream": "stdout",
       "text": [
        "\n",
        "/home/alan/EmoWorM/ColorThresh/EPODATA/1022_WM0-epo.fif"
       ]
      },
      {
       "output_type": "stream",
       "stream": "stdout",
       "text": [
        "\n",
        "/home/alan/EmoWorM/ColorThresh/EPODATA/1022_WM1-epo.fif"
       ]
      },
      {
       "output_type": "stream",
       "stream": "stdout",
       "text": [
        "\n",
        "/home/alan/EmoWorM/ColorThresh/EPODATA/1023_PV0-epo.fif"
       ]
      },
      {
       "output_type": "stream",
       "stream": "stdout",
       "text": [
        "\n",
        "/home/alan/EmoWorM/ColorThresh/EPODATA/1023_PV1-epo.fif"
       ]
      },
      {
       "output_type": "stream",
       "stream": "stdout",
       "text": [
        "\n",
        "/home/alan/EmoWorM/ColorThresh/EPODATA/1023_WM0-epo.fif"
       ]
      },
      {
       "output_type": "stream",
       "stream": "stdout",
       "text": [
        "\n",
        "/home/alan/EmoWorM/ColorThresh/EPODATA/1023_WM1-epo.fif"
       ]
      },
      {
       "output_type": "stream",
       "stream": "stdout",
       "text": [
        "\n",
        "/home/alan/EmoWorM/ColorThresh/EPODATA/1024_PV0-epo.fif"
       ]
      },
      {
       "output_type": "stream",
       "stream": "stdout",
       "text": [
        "\n",
        "/home/alan/EmoWorM/ColorThresh/EPODATA/1024_PV1-epo.fif"
       ]
      },
      {
       "output_type": "stream",
       "stream": "stdout",
       "text": [
        "\n",
        "/home/alan/EmoWorM/ColorThresh/EPODATA/1024_WM0-epo.fif"
       ]
      },
      {
       "output_type": "stream",
       "stream": "stdout",
       "text": [
        "\n",
        "/home/alan/EmoWorM/ColorThresh/EPODATA/1024_WM1-epo.fif"
       ]
      },
      {
       "output_type": "stream",
       "stream": "stdout",
       "text": [
        "\n",
        "/home/alan/EmoWorM/ColorThresh/EPODATA/1025_PV0-epo.fif"
       ]
      },
      {
       "output_type": "stream",
       "stream": "stdout",
       "text": [
        "\n",
        "/home/alan/EmoWorM/ColorThresh/EPODATA/1025_PV1-epo.fif"
       ]
      },
      {
       "output_type": "stream",
       "stream": "stdout",
       "text": [
        "\n",
        "/home/alan/EmoWorM/ColorThresh/EPODATA/1025_WM0-epo.fif"
       ]
      },
      {
       "output_type": "stream",
       "stream": "stdout",
       "text": [
        "\n",
        "/home/alan/EmoWorM/ColorThresh/EPODATA/1025_WM1-epo.fif"
       ]
      },
      {
       "output_type": "stream",
       "stream": "stdout",
       "text": [
        "\n",
        "/home/alan/EmoWorM/ColorThresh/EPODATA/1026_PV0-epo.fif"
       ]
      },
      {
       "output_type": "stream",
       "stream": "stdout",
       "text": [
        "\n",
        "/home/alan/EmoWorM/ColorThresh/EPODATA/1026_PV1-epo.fif"
       ]
      },
      {
       "output_type": "stream",
       "stream": "stdout",
       "text": [
        "\n",
        "/home/alan/EmoWorM/ColorThresh/EPODATA/1026_WM0-epo.fif"
       ]
      },
      {
       "output_type": "stream",
       "stream": "stdout",
       "text": [
        "\n",
        "/home/alan/EmoWorM/ColorThresh/EPODATA/1026_WM1-epo.fif"
       ]
      },
      {
       "output_type": "stream",
       "stream": "stdout",
       "text": [
        "\n",
        "/home/alan/EmoWorM/ColorThresh/EPODATA/1027_PV0-epo.fif"
       ]
      },
      {
       "output_type": "stream",
       "stream": "stdout",
       "text": [
        "\n",
        "/home/alan/EmoWorM/ColorThresh/EPODATA/1027_PV1-epo.fif"
       ]
      },
      {
       "output_type": "stream",
       "stream": "stdout",
       "text": [
        "\n",
        "/home/alan/EmoWorM/ColorThresh/EPODATA/1027_WM0-epo.fif"
       ]
      },
      {
       "output_type": "stream",
       "stream": "stdout",
       "text": [
        "\n",
        "/home/alan/EmoWorM/ColorThresh/EPODATA/1027_WM1-epo.fif"
       ]
      },
      {
       "output_type": "stream",
       "stream": "stdout",
       "text": [
        "\n",
        "/home/alan/EmoWorM/ColorThresh/EPODATA/1028_PV0-epo.fif"
       ]
      },
      {
       "output_type": "stream",
       "stream": "stdout",
       "text": [
        "\n",
        "/home/alan/EmoWorM/ColorThresh/EPODATA/1028_PV1-epo.fif"
       ]
      },
      {
       "output_type": "stream",
       "stream": "stdout",
       "text": [
        "\n",
        "/home/alan/EmoWorM/ColorThresh/EPODATA/1028_WM0-epo.fif"
       ]
      },
      {
       "output_type": "stream",
       "stream": "stdout",
       "text": [
        "\n",
        "/home/alan/EmoWorM/ColorThresh/EPODATA/1028_WM1-epo.fif"
       ]
      },
      {
       "output_type": "stream",
       "stream": "stdout",
       "text": [
        "\n",
        "/home/alan/EmoWorM/ColorThresh/EPODATA/1029_PV0-epo.fif"
       ]
      },
      {
       "output_type": "stream",
       "stream": "stdout",
       "text": [
        "\n",
        "/home/alan/EmoWorM/ColorThresh/EPODATA/1029_PV1-epo.fif"
       ]
      },
      {
       "output_type": "stream",
       "stream": "stdout",
       "text": [
        "\n",
        "/home/alan/EmoWorM/ColorThresh/EPODATA/1029_WM0-epo.fif"
       ]
      },
      {
       "output_type": "stream",
       "stream": "stdout",
       "text": [
        "\n",
        "/home/alan/EmoWorM/ColorThresh/EPODATA/1029_WM1-epo.fif"
       ]
      },
      {
       "output_type": "stream",
       "stream": "stdout",
       "text": [
        "\n",
        "/home/alan/EmoWorM/ColorThresh/EPODATA/1030_PV0-epo.fif"
       ]
      },
      {
       "output_type": "stream",
       "stream": "stdout",
       "text": [
        "\n",
        "/home/alan/EmoWorM/ColorThresh/EPODATA/1030_PV1-epo.fif"
       ]
      },
      {
       "output_type": "stream",
       "stream": "stdout",
       "text": [
        "\n",
        "/home/alan/EmoWorM/ColorThresh/EPODATA/1030_WM0-epo.fif"
       ]
      },
      {
       "output_type": "stream",
       "stream": "stdout",
       "text": [
        "\n",
        "/home/alan/EmoWorM/ColorThresh/EPODATA/1030_WM1-epo.fif"
       ]
      },
      {
       "output_type": "stream",
       "stream": "stdout",
       "text": [
        "\n",
        "/home/alan/EmoWorM/ColorThresh/EPODATA/1031_PV0-epo.fif"
       ]
      },
      {
       "output_type": "stream",
       "stream": "stdout",
       "text": [
        "\n",
        "/home/alan/EmoWorM/ColorThresh/EPODATA/1031_PV1-epo.fif"
       ]
      },
      {
       "output_type": "stream",
       "stream": "stdout",
       "text": [
        "\n",
        "/home/alan/EmoWorM/ColorThresh/EPODATA/1031_WM0-epo.fif"
       ]
      },
      {
       "output_type": "stream",
       "stream": "stdout",
       "text": [
        "\n",
        "/home/alan/EmoWorM/ColorThresh/EPODATA/1031_WM1-epo.fif"
       ]
      },
      {
       "output_type": "stream",
       "stream": "stdout",
       "text": [
        "\n",
        "/home/alan/EmoWorM/ColorThresh/EPODATA/1032_PV0-epo.fif"
       ]
      },
      {
       "output_type": "stream",
       "stream": "stdout",
       "text": [
        "\n",
        "/home/alan/EmoWorM/ColorThresh/EPODATA/1032_PV1-epo.fif"
       ]
      },
      {
       "output_type": "stream",
       "stream": "stdout",
       "text": [
        "\n",
        "/home/alan/EmoWorM/ColorThresh/EPODATA/1032_WM0-epo.fif"
       ]
      },
      {
       "output_type": "stream",
       "stream": "stdout",
       "text": [
        "\n",
        "/home/alan/EmoWorM/ColorThresh/EPODATA/1032_WM1-epo.fif"
       ]
      },
      {
       "output_type": "stream",
       "stream": "stdout",
       "text": [
        "\n",
        "/home/alan/EmoWorM/ColorThresh/EPODATA/1033_PV0-epo.fif"
       ]
      },
      {
       "output_type": "stream",
       "stream": "stdout",
       "text": [
        "\n",
        "/home/alan/EmoWorM/ColorThresh/EPODATA/1033_PV1-epo.fif"
       ]
      },
      {
       "output_type": "stream",
       "stream": "stdout",
       "text": [
        "\n",
        "/home/alan/EmoWorM/ColorThresh/EPODATA/1033_WM0-epo.fif"
       ]
      },
      {
       "output_type": "stream",
       "stream": "stdout",
       "text": [
        "\n",
        "/home/alan/EmoWorM/ColorThresh/EPODATA/1033_WM1-epo.fif"
       ]
      },
      {
       "output_type": "stream",
       "stream": "stdout",
       "text": [
        "\n",
        "/home/alan/EmoWorM/ColorThresh/EPODATA/1034_PV0-epo.fif"
       ]
      },
      {
       "output_type": "stream",
       "stream": "stdout",
       "text": [
        "\n",
        "/home/alan/EmoWorM/ColorThresh/EPODATA/1034_PV1-epo.fif"
       ]
      },
      {
       "output_type": "stream",
       "stream": "stdout",
       "text": [
        "\n",
        "/home/alan/EmoWorM/ColorThresh/EPODATA/1034_WM0-epo.fif"
       ]
      },
      {
       "output_type": "stream",
       "stream": "stdout",
       "text": [
        "\n",
        "/home/alan/EmoWorM/ColorThresh/EPODATA/1034_WM1-epo.fif"
       ]
      },
      {
       "output_type": "stream",
       "stream": "stdout",
       "text": [
        "\n",
        "/home/alan/EmoWorM/ColorThresh/EPODATA/1035_PV0-epo.fif"
       ]
      },
      {
       "output_type": "stream",
       "stream": "stdout",
       "text": [
        "\n",
        "/home/alan/EmoWorM/ColorThresh/EPODATA/1035_PV1-epo.fif"
       ]
      },
      {
       "output_type": "stream",
       "stream": "stdout",
       "text": [
        "\n",
        "/home/alan/EmoWorM/ColorThresh/EPODATA/1035_WM0-epo.fif"
       ]
      },
      {
       "output_type": "stream",
       "stream": "stdout",
       "text": [
        "\n",
        "/home/alan/EmoWorM/ColorThresh/EPODATA/1035_WM1-epo.fif"
       ]
      },
      {
       "output_type": "stream",
       "stream": "stdout",
       "text": [
        "\n",
        "/home/alan/EmoWorM/ColorThresh/EPODATA/1036_PV0-epo.fif"
       ]
      },
      {
       "output_type": "stream",
       "stream": "stdout",
       "text": [
        "\n",
        "/home/alan/EmoWorM/ColorThresh/EPODATA/1036_PV1-epo.fif"
       ]
      },
      {
       "output_type": "stream",
       "stream": "stdout",
       "text": [
        "\n",
        "/home/alan/EmoWorM/ColorThresh/EPODATA/1036_WM0-epo.fif"
       ]
      },
      {
       "output_type": "stream",
       "stream": "stdout",
       "text": [
        "\n",
        "/home/alan/EmoWorM/ColorThresh/EPODATA/1036_WM1-epo.fif"
       ]
      },
      {
       "output_type": "stream",
       "stream": "stdout",
       "text": [
        "\n",
        "/home/alan/EmoWorM/ColorThresh/EPODATA/1037_PV0-epo.fif"
       ]
      },
      {
       "output_type": "stream",
       "stream": "stdout",
       "text": [
        "\n",
        "/home/alan/EmoWorM/ColorThresh/EPODATA/1037_PV1-epo.fif"
       ]
      },
      {
       "output_type": "stream",
       "stream": "stdout",
       "text": [
        "\n",
        "/home/alan/EmoWorM/ColorThresh/EPODATA/1037_WM0-epo.fif"
       ]
      },
      {
       "output_type": "stream",
       "stream": "stdout",
       "text": [
        "\n",
        "/home/alan/EmoWorM/ColorThresh/EPODATA/1037_WM1-epo.fif"
       ]
      },
      {
       "output_type": "stream",
       "stream": "stdout",
       "text": [
        "\n",
        "/home/alan/EmoWorM/ColorThresh/EPODATA/1038_PV0-epo.fif"
       ]
      },
      {
       "output_type": "stream",
       "stream": "stdout",
       "text": [
        "\n",
        "/home/alan/EmoWorM/ColorThresh/EPODATA/1038_PV1-epo.fif"
       ]
      },
      {
       "output_type": "stream",
       "stream": "stdout",
       "text": [
        "\n",
        "/home/alan/EmoWorM/ColorThresh/EPODATA/1038_WM0-epo.fif"
       ]
      },
      {
       "output_type": "stream",
       "stream": "stdout",
       "text": [
        "\n",
        "/home/alan/EmoWorM/ColorThresh/EPODATA/1038_WM1-epo.fif"
       ]
      },
      {
       "output_type": "stream",
       "stream": "stdout",
       "text": [
        "\n"
       ]
      }
     ],
     "prompt_number": 5
    }
   ],
   "metadata": {}
  }
 ]
}