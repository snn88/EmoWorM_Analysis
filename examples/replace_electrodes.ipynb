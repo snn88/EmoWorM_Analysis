{
 "metadata": {
  "name": "",
  "signature": "sha256:f3e5b3a36f0c07143b66b301c7d3ca26f56ccbb19998c27b84f26ea67d72ba6c"
 },
 "nbformat": 3,
 "nbformat_minor": 0,
 "worksheets": [
  {
   "cells": [
    {
     "cell_type": "heading",
     "level": 1,
     "metadata": {},
     "source": [
      "Replace Electrode Example"
     ]
    },
    {
     "cell_type": "heading",
     "level": 3,
     "metadata": {},
     "source": [
      "Batch Process"
     ]
    },
    {
     "cell_type": "code",
     "collapsed": false,
     "input": [
      "%matplotlib inline"
     ],
     "language": "python",
     "metadata": {},
     "outputs": [],
     "prompt_number": 1
    },
    {
     "cell_type": "code",
     "collapsed": false,
     "input": [
      "# first, run the raw_fif.py script\n",
      "%run '../raw_fif.py'"
     ],
     "language": "python",
     "metadata": {},
     "outputs": [],
     "prompt_number": 2
    },
    {
     "cell_type": "code",
     "collapsed": false,
     "input": [
      "# suppress output\n",
      "mne.set_log_level(False)"
     ],
     "language": "python",
     "metadata": {},
     "outputs": [],
     "prompt_number": 3
    },
    {
     "cell_type": "code",
     "collapsed": false,
     "input": [
      "# then, read the replace_electrodes file\n",
      "# these are all the files that need electrodes to be replaced\n",
      "reps = np.genfromtxt('../replace_electrodes.txt', delimiter=',', dtype=None, names=True)\n",
      "print reps"
     ],
     "language": "python",
     "metadata": {},
     "outputs": [
      {
       "output_type": "stream",
       "stream": "stdout",
       "text": [
        "[(1015, 'WM', 1, 'F6', 'EXG6') (1015, 'PV', 1, 'F6', 'EXG6')\n",
        " (1018, 'PV', 0, 'F6', 'EXG8') (1018, 'WM', 0, 'F6', 'EXG8')\n",
        " (1018, 'PV', 1, 'F6', 'EXG8') (1018, 'WM', 1, 'F6', 'EXG8')\n",
        " (1021, 'WM', 1, 'F6', 'EXG8') (1021, 'PV', 1, 'F6', 'EXG8')\n",
        " (1022, 'PV', 0, 'F6', 'EXG8') (1022, 'WM', 0, 'F6', 'EXG8')\n",
        " (1022, 'PV', 1, 'F6', 'EXG8') (1022, 'WM', 1, 'F6', 'EXG8')\n",
        " (1025, 'PV', 0, 'F6', 'EXG8') (1025, 'WM', 0, 'F6', 'EXG8')\n",
        " (1025, 'PV', 1, 'F6', 'EXG8') (1025, 'WM', 1, 'F6', 'EXG8')\n",
        " (1026, 'PV', 0, 'F6', 'EXG8') (1026, 'WM', 0, 'F6', 'EXG8')\n",
        " (1026, 'PV', 1, 'F6', 'EXG8') (1026, 'WM', 1, 'F6', 'EXG8')\n",
        " (1027, 'PV', 0, 'F6', 'EXG8') (1027, 'WM', 0, 'F6', 'EXG8')\n",
        " (1027, 'PV', 1, 'F6', 'EXG8') (1027, 'WM', 1, 'F6', 'EXG8')\n",
        " (1028, 'PV', 0, 'F6', 'EXG8') (1028, 'WM', 0, 'F6', 'EXG8')\n",
        " (1028, 'PV', 1, 'F6', 'EXG8') (1028, 'WM', 1, 'F6', 'EXG8')\n",
        " (1029, 'PV', 0, 'F6', 'EXG8') (1029, 'WM', 0, 'F6', 'EXG8')\n",
        " (1029, 'PV', 1, 'F6', 'EXG8') (1029, 'WM', 1, 'F6', 'EXG8')\n",
        " (1030, 'PV', 0, 'F6', 'EXG8') (1030, 'WM', 0, 'F6', 'EXG8')\n",
        " (1030, 'PV', 1, 'F6', 'EXG8') (1030, 'WM', 1, 'F6', 'EXG8')\n",
        " (1031, 'PV', 0, 'F6', 'EXG8') (1031, 'WM', 0, 'F6', 'EXG8')\n",
        " (1031, 'PV', 1, 'F6', 'EXG8') (1031, 'WM', 1, 'F6', 'EXG8')\n",
        " (1032, 'PV', 0, 'F6', 'EXG8') (1032, 'WM', 0, 'F6', 'EXG8')\n",
        " (1032, 'PV', 1, 'F6', 'EXG8') (1032, 'WM', 1, 'F6', 'EXG8')\n",
        " (1033, 'PV', 0, 'F6', 'EXG8') (1033, 'WM', 0, 'F6', 'EXG8')\n",
        " (1033, 'PV', 1, 'F6', 'EXG8') (1033, 'WM', 1, 'F6', 'EXG8')\n",
        " (1034, 'PV', 0, 'F6', 'EXG8') (1034, 'WM', 0, 'F6', 'EXG8')\n",
        " (1034, 'PV', 1, 'F6', 'EXG8') (1034, 'WM', 1, 'F6', 'EXG8')\n",
        " (1035, 'PV', 0, 'F6', 'EXG8') (1035, 'WM', 0, 'F6', 'EXG8')\n",
        " (1035, 'PV', 1, 'F6', 'EXG8') (1035, 'WM', 1, 'F6', 'EXG8')\n",
        " (1036, 'PV', 0, 'F6', 'EXG8') (1036, 'WM', 0, 'F6', 'EXG8')\n",
        " (1036, 'PV', 1, 'F6', 'EXG8') (1036, 'WM', 1, 'F6', 'EXG8')\n",
        " (1037, 'PV', 0, 'F6', 'EXG8') (1037, 'WM', 0, 'F6', 'EXG8')\n",
        " (1037, 'PV', 1, 'F6', 'EXG8') (1037, 'WM', 1, 'F6', 'EXG8')\n",
        " (1038, 'PV', 0, 'F6', 'EXG8') (1038, 'WM', 0, 'F6', 'EXG8')\n",
        " (1038, 'PV', 1, 'F6', 'EXG8') (1038, 'WM', 1, 'F6', 'EXG8')]\n"
       ]
      }
     ],
     "prompt_number": 4
    },
    {
     "cell_type": "code",
     "collapsed": false,
     "input": [
      "# loop through the files\n",
      "for r in reps:\n",
      "    # initialize raw_fif object\n",
      "    this_fif = raw_fif(r['participant'], r['condition'], r['block'])\n",
      "    # replace the electrodes\n",
      "    this_fif.replace_electrodes()"
     ],
     "language": "python",
     "metadata": {},
     "outputs": [],
     "prompt_number": 5
    }
   ],
   "metadata": {}
  }
 ]
}